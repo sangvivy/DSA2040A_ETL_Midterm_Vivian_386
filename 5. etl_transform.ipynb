{
 "cells": [
  {
   "cell_type": "markdown",
   "id": "bfbbb2b6",
   "metadata": {},
   "source": [
    "# TRANSFORMATION\n",
    "In the transformation phase, several key data preparation steps were applied to both the raw and incremental datasets to improve data quality and readiness for analysis. First, duplicate records were identified and removed to ensure data integrity. Missing values in columns such as customer_name and region were filled with 'Unknown', while numerical fields like quantity and unit_price were imputed using the median and mean, respectively, to preserve the dataset’s structure. The order_date field was converted from string to datetime format to enable time-based analysis. An enrichment step was also applied by creating a new total_price column, calculated as the product of quantity and unit_price. Lastly, unnecessary or irrelevant columns (e.g., comments, notes) were dropped to reduce noise in the dataset. While various structural, cleaning, enrichment, and filtering transformations were performed, categorization (such as age grouping or customer tiering) was not included in this phase. The final cleaned datasets were saved to the transformed/ directory for loading."
   ]
  },
  {
   "cell_type": "code",
   "execution_count": 17,
   "id": "ab26182a",
   "metadata": {},
   "outputs": [],
   "source": [
    "# etl_transform.ipynb\n",
    "\n",
    "import pandas as pd\n",
    "import os\n",
    "from IPython.display import display\n",
    "\n",
    "# Step 1: Load the cleaned datasets from the 'data/' folder\n",
    "raw_df = pd.read_csv('1. data/raw_data.csv')\n",
    "incremental_df = pd.read_csv('1. data/incremental_data.csv')\n",
    "\n",
    "# Create output directory if not exists\n",
    "os.makedirs('transformed', exist_ok=True)"
   ]
  },
  {
   "cell_type": "markdown",
   "id": "3e1ea2a1",
   "metadata": {},
   "source": [
    "### ---------------- TRANSFORMATION 1: Remove Duplicates ---------------- ###\n",
    "\n",
    "What: Remove exact duplicate rows from both datasets.\n",
    "Why: Duplicate records can lead to double-counting, biased metrics, and inefficient storage. Removing them ensures data accuracy and integrity.\n",
    "How: Used DataFrame.drop_duplicates() to eliminate rows that are completely identical.\n"
   ]
  },
  {
   "cell_type": "code",
   "execution_count": null,
   "id": "38e82ad1",
   "metadata": {},
   "outputs": [
    {
     "name": "stdout",
     "output_type": "stream",
     "text": [
      "\n",
      "--- TRANSFORMATION 1: Remove Duplicate Rows ---\n",
      "Raw Data - Before:\n"
     ]
    },
    {
     "data": {
      "text/plain": [
       "False    99\n",
       "True      1\n",
       "Name: count, dtype: int64"
      ]
     },
     "metadata": {},
     "output_type": "display_data"
    },
    {
     "name": "stdout",
     "output_type": "stream",
     "text": [
      "Raw Data - After:\n"
     ]
    },
    {
     "data": {
      "text/plain": [
       "False    99\n",
       "Name: count, dtype: int64"
      ]
     },
     "metadata": {},
     "output_type": "display_data"
    }
   ],
   "source": [
    "print(\"\\n--- TRANSFORMATION 1: Remove Duplicate Rows ---\")\n",
    "\n",
    "print(\"Raw Data - Before:\")\n",
    "display(raw_df.duplicated().value_counts())\n",
    "\n",
    "raw_df = raw_df.drop_duplicates()\n",
    "incremental_df = incremental_df.drop_duplicates()\n",
    "\n",
    "print(\"Raw Data - After:\")\n",
    "display(raw_df.duplicated().value_counts())\n",
    "\n"
   ]
  },
  {
   "cell_type": "markdown",
   "id": "00463520",
   "metadata": {},
   "source": [
    "# ---------------- HANDLE MISSING VALUES ----------------\n",
    "\n",
    "What: Address missing values in key columns like customer_name, region, quantity, and unit_price.\n",
    "\n",
    "Why: Missing values (NaNs) can break calculations, visualizations, and machine learning models. We need to ensure each column is usabl\n",
    "\n",
    "How:\n",
    "Categorical fields like customer_name and region were filled with \"Unknown\".\n",
    "\n",
    "Numeric fields:\n",
    "quantity was filled with the median (resistant to outliers).\n",
    "unit_price was filled with the mean (captures central tendency).\n",
    "Dates like order_date were converted to datetime, with invalid entries set to Na"
   ]
  },
  {
   "cell_type": "code",
   "execution_count": null,
   "id": "62ce9e7e",
   "metadata": {},
   "outputs": [
    {
     "name": "stdout",
     "output_type": "stream",
     "text": [
      "Missing values in raw_df after cleaning:\n"
     ]
    },
    {
     "data": {
      "text/plain": [
       "order_id         0\n",
       "customer_name    0\n",
       "product          0\n",
       "quantity         0\n",
       "unit_price       0\n",
       "order_date       1\n",
       "region           0\n",
       "dtype: int64"
      ]
     },
     "metadata": {},
     "output_type": "display_data"
    },
    {
     "name": "stdout",
     "output_type": "stream",
     "text": [
      "Missing values in incremental_df after cleaning:\n"
     ]
    },
    {
     "data": {
      "text/plain": [
       "order_id         0\n",
       "customer_name    0\n",
       "product          0\n",
       "quantity         0\n",
       "unit_price       0\n",
       "order_date       0\n",
       "region           0\n",
       "dtype: int64"
      ]
     },
     "metadata": {},
     "output_type": "display_data"
    }
   ],
   "source": [
    "\n",
    "# Convert numeric columns to proper types first\n",
    "for df in [raw_df, incremental_df]:\n",
    "    df['quantity'] = pd.to_numeric(df['quantity'], errors='coerce')\n",
    "    df['unit_price'] = pd.to_numeric(df['unit_price'], errors='coerce')\n",
    "\n",
    "# Fill missing values\n",
    "for df in [raw_df, incremental_df]:\n",
    "    df['customer_name'] = df['customer_name'].fillna('Unknown')\n",
    "    df['region'] = df['region'].fillna('Unknown')\n",
    "    df['quantity'] = df['quantity'].fillna(df['quantity'].median())\n",
    "    df['unit_price'] = df['unit_price'].fillna(df['unit_price'].mean())\n",
    "\n",
    "# Convert dates\n",
    "for df in [raw_df, incremental_df]:\n",
    "    df['order_date'] = pd.to_datetime(df['order_date'], errors='coerce')\n",
    "\n",
    "# Check remaining missing values\n",
    "print(\"Missing values in raw_df after cleaning:\")\n",
    "display(raw_df.isnull().sum())\n",
    "\n",
    "print(\"Missing values in incremental_df after cleaning:\")\n",
    "display(incremental_df.isnull().sum())\n",
    "\n"
   ]
  },
  {
   "cell_type": "markdown",
   "id": "0fca1408",
   "metadata": {},
   "source": [
    "# ---------------- FILTERING: Drop Irrelevant Columns ----------------\n",
    "\n",
    "What: Removed non-essential columns such as comments, notes, or unused_code.\n",
    "\n",
    "Why: These fields were not relevant to the analysis, transformation, or loading phases. Keeping them would increase noise and storage unnecessarily.\n",
    "\n",
    "How: Used DataFrame.drop() with a filtered list of column names, only dropping those that actually exist."
   ]
  },
  {
   "cell_type": "code",
   "execution_count": null,
   "id": "b76136be",
   "metadata": {},
   "outputs": [
    {
     "name": "stdout",
     "output_type": "stream",
     "text": [
      "\n",
      "--- TRANSFORMATION: Filtering Columns ---\n",
      "Dropped columns (if present): []\n",
      "Remaining columns in raw_df:\n"
     ]
    },
    {
     "data": {
      "text/plain": [
       "Index(['order_id', 'customer_name', 'product', 'quantity', 'unit_price',\n",
       "       'order_date', 'region', 'total_price', 'age', 'age_group'],\n",
       "      dtype='object')"
      ]
     },
     "metadata": {},
     "output_type": "display_data"
    }
   ],
   "source": [
    "print(\"\\n--- TRANSFORMATION: Filtering Columns ---\")\n",
    "\n",
    "# Example: Drop unnecessary columns like 'comments' or 'unused_code'\n",
    "columns_to_drop = [col for col in ['comments', 'notes', 'unused_code'] if col in raw_df.columns]\n",
    "\n",
    "for df in [raw_df, incremental_df]:\n",
    "    df.drop(columns=columns_to_drop, inplace=True)\n",
    "\n",
    "print(f\"Dropped columns (if present): {columns_to_drop}\")\n",
    "print(\"Remaining columns in raw_df:\")\n",
    "display(raw_df.columns)\n"
   ]
  },
  {
   "cell_type": "markdown",
   "id": "0497824b",
   "metadata": {},
   "source": [
    "### ---------------- TRANSFORMATION 3: Convert Dates to Datetime ---------------- ###\n",
    "\n",
    "What: Standardize the order_date field to datetime format.\n",
    "\n",
    "Why: Enables accurate time-based analysis such as sales trends, filtering by date, and time grouping.\n",
    "\n",
    "How: Used pd.to_datetime() with errors='coerce' to gracefully handle invalid date formats by converting them to NaT."
   ]
  },
  {
   "cell_type": "code",
   "execution_count": null,
   "id": "2861afbc",
   "metadata": {},
   "outputs": [
    {
     "name": "stdout",
     "output_type": "stream",
     "text": [
      "\n",
      "--- TRANSFORMATION 3: Convert signup_date to datetime ---\n"
     ]
    }
   ],
   "source": [
    "print(\"\\n--- TRANSFORMATION 3: Convert signup_date to datetime ---\")\n",
    "\n",
    "if 'signup_date' in raw_df.columns:\n",
    "    print(\"Before:\")\n",
    "    display(raw_df['signup_date'].head())\n",
    "\n",
    "    raw_df['signup_date'] = pd.to_datetime(raw_df['signup_date'], errors='coerce')\n",
    "    incremental_df['signup_date'] = pd.to_datetime(incremental_df['signup_date'], errors='coerce')\n",
    "\n",
    "    print(\"After:\")\n",
    "    display(raw_df['signup_date'].head())\n",
    "\n"
   ]
  },
  {
   "cell_type": "markdown",
   "id": "b678c763",
   "metadata": {},
   "source": [
    "### ---------------- TRANSFORMATION 4: Add Enrichment Column ---------------- ###\n",
    "\n",
    "What: Add a new column total_price calculated as quantity * unit_price.\n",
    "\n",
    "Why: This derived metric is useful for revenue analysis, order value insights, and business reporting.\n",
    "\n",
    "How: Direct column multiplication:\n",
    "df['total_price'] = df['quantity'] * df['unit_price']"
   ]
  },
  {
   "cell_type": "code",
   "execution_count": null,
   "id": "29a030c8",
   "metadata": {},
   "outputs": [
    {
     "name": "stdout",
     "output_type": "stream",
     "text": [
      "\n",
      "--- TRANSFORMATION 4: Add total_price column = quantity * unit_price ---\n",
      "New column total_price added:\n"
     ]
    },
    {
     "data": {
      "text/html": [
       "<div>\n",
       "<style scoped>\n",
       "    .dataframe tbody tr th:only-of-type {\n",
       "        vertical-align: middle;\n",
       "    }\n",
       "\n",
       "    .dataframe tbody tr th {\n",
       "        vertical-align: top;\n",
       "    }\n",
       "\n",
       "    .dataframe thead th {\n",
       "        text-align: right;\n",
       "    }\n",
       "</style>\n",
       "<table border=\"1\" class=\"dataframe\">\n",
       "  <thead>\n",
       "    <tr style=\"text-align: right;\">\n",
       "      <th></th>\n",
       "      <th>quantity</th>\n",
       "      <th>unit_price</th>\n",
       "      <th>total_price</th>\n",
       "    </tr>\n",
       "  </thead>\n",
       "  <tbody>\n",
       "    <tr>\n",
       "      <th>0</th>\n",
       "      <td>2.0</td>\n",
       "      <td>500.00000</td>\n",
       "      <td>1000.00000</td>\n",
       "    </tr>\n",
       "    <tr>\n",
       "      <th>1</th>\n",
       "      <td>2.0</td>\n",
       "      <td>496.09375</td>\n",
       "      <td>992.18750</td>\n",
       "    </tr>\n",
       "    <tr>\n",
       "      <th>2</th>\n",
       "      <td>2.0</td>\n",
       "      <td>250.00000</td>\n",
       "      <td>500.00000</td>\n",
       "    </tr>\n",
       "    <tr>\n",
       "      <th>3</th>\n",
       "      <td>2.0</td>\n",
       "      <td>750.00000</td>\n",
       "      <td>1500.00000</td>\n",
       "    </tr>\n",
       "    <tr>\n",
       "      <th>4</th>\n",
       "      <td>3.0</td>\n",
       "      <td>496.09375</td>\n",
       "      <td>1488.28125</td>\n",
       "    </tr>\n",
       "  </tbody>\n",
       "</table>\n",
       "</div>"
      ],
      "text/plain": [
       "   quantity  unit_price  total_price\n",
       "0       2.0   500.00000   1000.00000\n",
       "1       2.0   496.09375    992.18750\n",
       "2       2.0   250.00000    500.00000\n",
       "3       2.0   750.00000   1500.00000\n",
       "4       3.0   496.09375   1488.28125"
      ]
     },
     "metadata": {},
     "output_type": "display_data"
    }
   ],
   "source": [
    "print(\"\\n--- TRANSFORMATION 4: Add total_price column = quantity * unit_price ---\")\n",
    "\n",
    "if 'quantity' in raw_df.columns and 'unit_price' in raw_df.columns:\n",
    "    raw_df['total_price'] = raw_df['quantity'] * raw_df['unit_price']\n",
    "    incremental_df['total_price'] = incremental_df['quantity'] * incremental_df['unit_price']\n",
    "\n",
    "    print(\"New column total_price added:\")\n",
    "    display(raw_df[['quantity', 'unit_price', 'total_price']].head())\n",
    "\n"
   ]
  },
  {
   "cell_type": "markdown",
   "id": "d5f161ec",
   "metadata": {},
   "source": [
    "### ---------------- Save the Transformed Files ---------------- ###\n",
    "\n",
    "What: Store clean and enriched datasets into the transformed/ directory.\n",
    "\n",
    "Why: Ensures transformed outputs are ready for loading into a database or analytics tool.\n",
    "\n",
    "How: Used DataFrame.to_csv() to save:\n"
   ]
  },
  {
   "cell_type": "code",
   "execution_count": null,
   "id": "334a658f",
   "metadata": {},
   "outputs": [
    {
     "name": "stdout",
     "output_type": "stream",
     "text": [
      "\n",
      " Transformed files saved to 'transformed/' folder.\n",
      "Transformed Full Dataset:\n"
     ]
    },
    {
     "data": {
      "text/html": [
       "<div>\n",
       "<style scoped>\n",
       "    .dataframe tbody tr th:only-of-type {\n",
       "        vertical-align: middle;\n",
       "    }\n",
       "\n",
       "    .dataframe tbody tr th {\n",
       "        vertical-align: top;\n",
       "    }\n",
       "\n",
       "    .dataframe thead th {\n",
       "        text-align: right;\n",
       "    }\n",
       "</style>\n",
       "<table border=\"1\" class=\"dataframe\">\n",
       "  <thead>\n",
       "    <tr style=\"text-align: right;\">\n",
       "      <th></th>\n",
       "      <th>order_id</th>\n",
       "      <th>customer_name</th>\n",
       "      <th>product</th>\n",
       "      <th>quantity</th>\n",
       "      <th>unit_price</th>\n",
       "      <th>order_date</th>\n",
       "      <th>region</th>\n",
       "      <th>total_price</th>\n",
       "      <th>age</th>\n",
       "      <th>age_group</th>\n",
       "    </tr>\n",
       "  </thead>\n",
       "  <tbody>\n",
       "    <tr>\n",
       "      <th>0</th>\n",
       "      <td>1</td>\n",
       "      <td>Diana</td>\n",
       "      <td>Tablet</td>\n",
       "      <td>2.0</td>\n",
       "      <td>500.00000</td>\n",
       "      <td>2024-01-20</td>\n",
       "      <td>South</td>\n",
       "      <td>1000.00000</td>\n",
       "      <td>NaN</td>\n",
       "      <td>Unknown</td>\n",
       "    </tr>\n",
       "    <tr>\n",
       "      <th>1</th>\n",
       "      <td>2</td>\n",
       "      <td>Eve</td>\n",
       "      <td>Laptop</td>\n",
       "      <td>2.0</td>\n",
       "      <td>496.09375</td>\n",
       "      <td>2024-04-29</td>\n",
       "      <td>North</td>\n",
       "      <td>992.18750</td>\n",
       "      <td>NaN</td>\n",
       "      <td>Unknown</td>\n",
       "    </tr>\n",
       "    <tr>\n",
       "      <th>2</th>\n",
       "      <td>3</td>\n",
       "      <td>Charlie</td>\n",
       "      <td>Laptop</td>\n",
       "      <td>2.0</td>\n",
       "      <td>250.00000</td>\n",
       "      <td>2024-01-08</td>\n",
       "      <td>Unknown</td>\n",
       "      <td>500.00000</td>\n",
       "      <td>NaN</td>\n",
       "      <td>Unknown</td>\n",
       "    </tr>\n",
       "    <tr>\n",
       "      <th>3</th>\n",
       "      <td>4</td>\n",
       "      <td>Eve</td>\n",
       "      <td>Laptop</td>\n",
       "      <td>2.0</td>\n",
       "      <td>750.00000</td>\n",
       "      <td>2024-01-07</td>\n",
       "      <td>West</td>\n",
       "      <td>1500.00000</td>\n",
       "      <td>NaN</td>\n",
       "      <td>Unknown</td>\n",
       "    </tr>\n",
       "    <tr>\n",
       "      <th>4</th>\n",
       "      <td>5</td>\n",
       "      <td>Eve</td>\n",
       "      <td>Tablet</td>\n",
       "      <td>3.0</td>\n",
       "      <td>496.09375</td>\n",
       "      <td>2024-03-07</td>\n",
       "      <td>South</td>\n",
       "      <td>1488.28125</td>\n",
       "      <td>NaN</td>\n",
       "      <td>Unknown</td>\n",
       "    </tr>\n",
       "  </tbody>\n",
       "</table>\n",
       "</div>"
      ],
      "text/plain": [
       "   order_id customer_name product  quantity  unit_price  order_date   region  \\\n",
       "0         1         Diana  Tablet       2.0   500.00000  2024-01-20    South   \n",
       "1         2           Eve  Laptop       2.0   496.09375  2024-04-29    North   \n",
       "2         3       Charlie  Laptop       2.0   250.00000  2024-01-08  Unknown   \n",
       "3         4           Eve  Laptop       2.0   750.00000  2024-01-07     West   \n",
       "4         5           Eve  Tablet       3.0   496.09375  2024-03-07    South   \n",
       "\n",
       "   total_price  age age_group  \n",
       "0   1000.00000  NaN   Unknown  \n",
       "1    992.18750  NaN   Unknown  \n",
       "2    500.00000  NaN   Unknown  \n",
       "3   1500.00000  NaN   Unknown  \n",
       "4   1488.28125  NaN   Unknown  "
      ]
     },
     "metadata": {},
     "output_type": "display_data"
    },
    {
     "name": "stdout",
     "output_type": "stream",
     "text": [
      "Transformed Incremental Dataset:\n"
     ]
    },
    {
     "data": {
      "text/html": [
       "<div>\n",
       "<style scoped>\n",
       "    .dataframe tbody tr th:only-of-type {\n",
       "        vertical-align: middle;\n",
       "    }\n",
       "\n",
       "    .dataframe tbody tr th {\n",
       "        vertical-align: top;\n",
       "    }\n",
       "\n",
       "    .dataframe thead th {\n",
       "        text-align: right;\n",
       "    }\n",
       "</style>\n",
       "<table border=\"1\" class=\"dataframe\">\n",
       "  <thead>\n",
       "    <tr style=\"text-align: right;\">\n",
       "      <th></th>\n",
       "      <th>order_id</th>\n",
       "      <th>customer_name</th>\n",
       "      <th>product</th>\n",
       "      <th>quantity</th>\n",
       "      <th>unit_price</th>\n",
       "      <th>order_date</th>\n",
       "      <th>region</th>\n",
       "      <th>total_price</th>\n",
       "      <th>age</th>\n",
       "      <th>age_group</th>\n",
       "    </tr>\n",
       "  </thead>\n",
       "  <tbody>\n",
       "    <tr>\n",
       "      <th>0</th>\n",
       "      <td>101</td>\n",
       "      <td>Alice</td>\n",
       "      <td>Laptop</td>\n",
       "      <td>1.5</td>\n",
       "      <td>900.0</td>\n",
       "      <td>2024-05-09</td>\n",
       "      <td>Central</td>\n",
       "      <td>1350.0</td>\n",
       "      <td>NaN</td>\n",
       "      <td>Unknown</td>\n",
       "    </tr>\n",
       "    <tr>\n",
       "      <th>1</th>\n",
       "      <td>102</td>\n",
       "      <td>Unknown</td>\n",
       "      <td>Laptop</td>\n",
       "      <td>1.0</td>\n",
       "      <td>300.0</td>\n",
       "      <td>2024-05-07</td>\n",
       "      <td>Central</td>\n",
       "      <td>300.0</td>\n",
       "      <td>NaN</td>\n",
       "      <td>Unknown</td>\n",
       "    </tr>\n",
       "    <tr>\n",
       "      <th>2</th>\n",
       "      <td>103</td>\n",
       "      <td>Unknown</td>\n",
       "      <td>Laptop</td>\n",
       "      <td>1.0</td>\n",
       "      <td>600.0</td>\n",
       "      <td>2024-05-04</td>\n",
       "      <td>Central</td>\n",
       "      <td>600.0</td>\n",
       "      <td>NaN</td>\n",
       "      <td>Unknown</td>\n",
       "    </tr>\n",
       "    <tr>\n",
       "      <th>3</th>\n",
       "      <td>104</td>\n",
       "      <td>Unknown</td>\n",
       "      <td>Tablet</td>\n",
       "      <td>1.5</td>\n",
       "      <td>300.0</td>\n",
       "      <td>2024-05-26</td>\n",
       "      <td>Central</td>\n",
       "      <td>450.0</td>\n",
       "      <td>NaN</td>\n",
       "      <td>Unknown</td>\n",
       "    </tr>\n",
       "    <tr>\n",
       "      <th>4</th>\n",
       "      <td>105</td>\n",
       "      <td>Heidi</td>\n",
       "      <td>Tablet</td>\n",
       "      <td>2.0</td>\n",
       "      <td>600.0</td>\n",
       "      <td>2024-05-21</td>\n",
       "      <td>North</td>\n",
       "      <td>1200.0</td>\n",
       "      <td>NaN</td>\n",
       "      <td>Unknown</td>\n",
       "    </tr>\n",
       "  </tbody>\n",
       "</table>\n",
       "</div>"
      ],
      "text/plain": [
       "   order_id customer_name product  quantity  unit_price  order_date   region  \\\n",
       "0       101         Alice  Laptop       1.5       900.0  2024-05-09  Central   \n",
       "1       102       Unknown  Laptop       1.0       300.0  2024-05-07  Central   \n",
       "2       103       Unknown  Laptop       1.0       600.0  2024-05-04  Central   \n",
       "3       104       Unknown  Tablet       1.5       300.0  2024-05-26  Central   \n",
       "4       105         Heidi  Tablet       2.0       600.0  2024-05-21    North   \n",
       "\n",
       "   total_price  age age_group  \n",
       "0       1350.0  NaN   Unknown  \n",
       "1        300.0  NaN   Unknown  \n",
       "2        600.0  NaN   Unknown  \n",
       "3        450.0  NaN   Unknown  \n",
       "4       1200.0  NaN   Unknown  "
      ]
     },
     "metadata": {},
     "output_type": "display_data"
    }
   ],
   "source": [
    "raw_df.to_csv('2. transformed/transformed_full.csv', index=False)\n",
    "incremental_df.to_csv('2. transformed/transformed_incremental.csv', index=False)\n",
    "\n",
    "print(\"\\n Transformed files saved to 'transformed/' folder.\")\n",
    "\n",
    "# View the transformed full dataset\n",
    "transformed_full = pd.read_csv('2. transformed/transformed_full.csv')\n",
    "print(\"Transformed Full Dataset:\")\n",
    "display(transformed_full.head())\n",
    "\n",
    "# View the transformed incremental dataset\n",
    "transformed_inc = pd.read_csv('2. transformed/transformed_incremental.csv')\n",
    "print(\"Transformed Incremental Dataset:\")\n",
    "display(transformed_inc.head())"
   ]
  }
 ],
 "metadata": {
  "kernelspec": {
   "display_name": "base",
   "language": "python",
   "name": "python3"
  },
  "language_info": {
   "codemirror_mode": {
    "name": "ipython",
    "version": 3
   },
   "file_extension": ".py",
   "mimetype": "text/x-python",
   "name": "python",
   "nbconvert_exporter": "python",
   "pygments_lexer": "ipython3",
   "version": "3.12.4"
  }
 },
 "nbformat": 4,
 "nbformat_minor": 5
}
